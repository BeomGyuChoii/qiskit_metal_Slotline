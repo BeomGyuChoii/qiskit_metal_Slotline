{
 "cells": [
  {
   "cell_type": "markdown",
   "id": "eaf58890",
   "metadata": {},
   "source": [
    "Title : slotline test \n",
    "\n",
    "modified history:\n",
    "221015 BGchoi slotline\n",
    "\n",
    "\n"
   ]
  },
  {
   "cell_type": "code",
   "execution_count": 1,
   "id": "89ad6e52-ca7a-4722-ab10-bc4d23d12273",
   "metadata": {},
   "outputs": [],
   "source": [
    "%load_ext autoreload\n",
    "%autoreload 2\n",
    "\n",
    "import qiskit_metal as metal\n",
    "from qiskit_metal import designs, draw\n",
    "from qiskit_metal import MetalGUI, Dict, Headings\n",
    "import pyEPR as epr\n",
    "import numpy as np\n",
    "\n",
    "\n",
    "import warnings\n",
    "warnings.filterwarnings(\"ignore\") #Shapely 2.0 warnings\n",
    "\n",
    "import sys\n",
    "## setting local path, depends on github folder\n",
    "sys.path.append('D:\\6.최범규\\VSC\\SQuIRL_Metal\\_BGChoi')"
   ]
  },
  {
   "cell_type": "code",
   "execution_count": 2,
   "id": "573702fd-8c0c-4720-a347-9980dafddf14",
   "metadata": {},
   "outputs": [],
   "source": [
    "from qiskit_metal.qlibrary.terminations.launchpad_wb_driven import LaunchpadWirebondDriven\n",
    "from qiskit_metal.qlibrary.tlines.straight_path import RouteStraight\n",
    "from qiskit_metal.qlibrary.tlines.framed_path import RouteFramed\n",
    "from qiskit_metal.qlibrary.tlines.meandered import RouteMeander\n",
    "from qiskit_metal.qlibrary.qubits.transmon_pocket_6 import TransmonPocket6\n",
    "from qiskit_metal.qlibrary.qubits.transmon_pocket_cl import TransmonPocketCL\n",
    "from qiskit_metal.qlibrary.couplers.coupled_line_tee import CoupledLineTee\n",
    "\n",
    "from Slotline.Slotline import Slotline"
   ]
  },
  {
   "cell_type": "code",
   "execution_count": 3,
   "id": "3239b6d9-2049-48ab-978a-e14e6fa08e8f",
   "metadata": {},
   "outputs": [],
   "source": [
    "design = designs.DesignPlanar({}, True)\n",
    "design.variables['cpw_width'] = '10 um'\n",
    "design.variables['cpw_gap'] = '5 um'\n",
    "design.variables['prime_width'] = '20.2um'\n",
    "design.variables['prime_gap'] = '11.8um'\n",
    "design.chips.main.size.size_x = '10mm' #'8mm'\n",
    "design.chips.main.size.size_y = '6mm' #'4mm'\n",
    "design.chips.main.size.size_z = '-0.5mm'\n",
    "design.chips.main.material = 'Silicon'\n",
    "#design.chips.main.material = 'sapphire_LT_effective'\n",
    "design.chips\n",
    "gui = MetalGUI(design)"
   ]
  },
  {
   "cell_type": "code",
   "execution_count": 13,
   "id": "57408baf",
   "metadata": {},
   "outputs": [],
   "source": [
    "design.delete_all_components()"
   ]
  },
  {
   "cell_type": "code",
   "execution_count": 14,
   "id": "0737192c",
   "metadata": {},
   "outputs": [],
   "source": [
    "slotline = Slotline(design,\"Slotline\",options=dict(slotline_count = 12))"
   ]
  },
  {
   "cell_type": "code",
   "execution_count": 15,
   "id": "1f9333c7",
   "metadata": {},
   "outputs": [],
   "source": [
    "gui.rebuild()"
   ]
  },
  {
   "cell_type": "code",
   "execution_count": 6,
   "id": "e31317b9",
   "metadata": {},
   "outputs": [],
   "source": [
    "layer_resonator = 1\n",
    "layer_qubit = 1\n",
    "layer_ground = 1"
   ]
  },
  {
   "cell_type": "code",
   "execution_count": 7,
   "id": "9db26253",
   "metadata": {},
   "outputs": [
    {
     "name": "stderr",
     "output_type": "stream",
     "text": [
      "INFO 09:17PM [connect_project]: Connecting to Ansys Desktop API...\n",
      "INFO 09:17PM [load_ansys_project]: \tOpened Ansys App\n",
      "INFO 09:17PM [load_ansys_project]: \tOpened Ansys Desktop v2021.1.0\n",
      "INFO 09:17PM [load_ansys_project]: \tOpened Ansys Project\n",
      "\tFolder:    D:/6.최범규/HFSS/\n",
      "\tProject:   slotline test_4\n",
      "INFO 09:17PM [connect_design]: \tOpened active design\n",
      "\tDesign:    design5 [Solution type: Eigenmode]\n",
      "INFO 09:17PM [get_setup]: \tOpened setup `Setup`  (<class 'pyEPR.ansys.HfssEMSetup'>)\n",
      "INFO 09:17PM [connect]: \tConnected to project \"slotline test_4\" and design \"design5\" 😀 \n",
      "\n"
     ]
    },
    {
     "data": {
      "text/plain": [
       "True"
      ]
     },
     "execution_count": 7,
     "metadata": {},
     "output_type": "execute_result"
    }
   ],
   "source": [
    "from qiskit_metal.analyses.simulation.scattering_impedance import ScatteringImpedanceSim\n",
    "em1 = ScatteringImpedanceSim(design, \"hfss\")\n",
    "hfss = em1.renderer\n",
    "hfss.start()"
   ]
  },
  {
   "cell_type": "code",
   "execution_count": 8,
   "id": "9551c227",
   "metadata": {},
   "outputs": [
    {
     "name": "stderr",
     "output_type": "stream",
     "text": [
      "09:17PM 39s WARNING [activate_ansys_design]: The design_name=design6 was not in active project.  Designs in active project are: \n",
      "['design4', 'design5', 'design', 'design3', 'design1', 'design2'].  A new design will be added to the project.  \n",
      "INFO 09:17PM [connect_design]: \tOpened active design\n",
      "\tDesign:    design6 [Solution type: Eigenmode]\n",
      "WARNING 09:17PM [connect_setup]: \tNo design setup detected.\n",
      "WARNING 09:17PM [connect_setup]: \tCreating eigenmode default setup.\n",
      "INFO 09:17PM [get_setup]: \tOpened setup `Setup`  (<class 'pyEPR.ansys.HfssEMSetup'>)\n"
     ]
    }
   ],
   "source": [
    "hfss.activate_ansys_design(\"design6\", 'eigenmode')"
   ]
  },
  {
   "cell_type": "code",
   "execution_count": 9,
   "id": "fdd5c0e3",
   "metadata": {},
   "outputs": [],
   "source": [
    "hfss.render_design(selection=[],\n",
    "                   open_pins=[],\n",
    "                   port_list=[],\n",
    "                   jj_to_port=[],\n",
    "                   ignored_jjs=[],\n",
    "                   box_plus_buffer=True)"
   ]
  },
  {
   "cell_type": "code",
   "execution_count": 10,
   "id": "851a26be",
   "metadata": {},
   "outputs": [],
   "source": [
    "em1.close()"
   ]
  },
  {
   "cell_type": "code",
   "execution_count": null,
   "id": "07bb2e17",
   "metadata": {},
   "outputs": [],
   "source": []
  }
 ],
 "metadata": {
  "kernelspec": {
   "display_name": "Python 3.9.10 ('metal')",
   "language": "python",
   "name": "python3"
  },
  "language_info": {
   "codemirror_mode": {
    "name": "ipython",
    "version": 3
   },
   "file_extension": ".py",
   "mimetype": "text/x-python",
   "name": "python",
   "nbconvert_exporter": "python",
   "pygments_lexer": "ipython3",
   "version": "3.9.10"
  },
  "vscode": {
   "interpreter": {
    "hash": "6340238362bcfb42e0084e22aeaf90c948bffd7982b32139eb61cab5841191f5"
   }
  }
 },
 "nbformat": 4,
 "nbformat_minor": 5
}
